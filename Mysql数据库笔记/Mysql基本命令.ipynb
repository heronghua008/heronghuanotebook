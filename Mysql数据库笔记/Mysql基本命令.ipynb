{
 "cells": [
  {
   "cell_type": "markdown",
   "metadata": {},
   "source": [
    "## 库的操作\n",
    "\n",
    "- show databases;   查看已有的库\n",
    "- create database 库名 [character set utf8];   创建库(指定字符集)\n",
    "- show create database 库名;  查看创建库的字符格式\n",
    "- select database();  查看当前所在的库\n",
    "- use 库名;  切换库\n",
    "- drop database 库名;   删除库\n",
    "\n",
    "## 表的操作\n",
    "\n",
    "- show tables;  查看库中已有的表\n",
    "- create table 表名(字段名1  数据类型,字段名2 数据类型,字段3 数据类型); 创建表\n",
    "- show create table 表名;  查看创建表的语句（字符集）\n",
    "- desc 表名; 查看表的结构\n",
    "- drop table 表名;  删除表 \n",
    "- 在表中插入记录\n",
    "  - insert into 表名 values(),()...;\n",
    "  - insert into 表名 (字段名1,字段2) values(值1),(值2)...；\n",
    "- 查询表记录\n",
    "  - select * from 表名 [where 条件]\n",
    "  - select 字段名1,字段名2...from 表名 [where 条件]\n",
    "  \n",
    " "
   ]
  }
 ],
 "metadata": {
  "kernelspec": {
   "display_name": "Python 3",
   "language": "python",
   "name": "python3"
  },
  "language_info": {
   "codemirror_mode": {
    "name": "ipython",
    "version": 3
   },
   "file_extension": ".py",
   "mimetype": "text/x-python",
   "name": "python",
   "nbconvert_exporter": "python",
   "pygments_lexer": "ipython3",
   "version": "3.6.5"
  }
 },
 "nbformat": 4,
 "nbformat_minor": 2
}
