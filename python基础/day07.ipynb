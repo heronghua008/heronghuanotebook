{
 "cells": [
  {
   "cell_type": "markdown",
   "metadata": {},
   "source": [
    "\n",
    "## 同步互斥机制\n",
    "- 目的:解决对共有资源操作产生的争夺\n",
    "- 临界资源:多个进程或者线程都能够操作的资源\n",
    "- 临界区:操作临界资源的代码段\n",
    "- 同步:同步是一种合作关系,为完成某个任务多进程或者多线程之间形成一种协调,按照约定或条依次执行对临界资源的操作,相互告知相互促进.\n",
    "- 互斥:互斥是一种制约关系,当一个进程或者线程进入临界区会进行加锁的操作.此时其他进程(线程)再企图使用临界时就会阻塞,直到使用的进程进行解锁操作后才能使用\n",
    "\n",
    "- lock.acquire()  上锁\n",
    "- lock.release()  解锁\n",
    "\n",
    "## 线程\n",
    "- 什么是线程\n",
    "  - 线程也是一种多任务编程的方式,可以使用计算机多核资源.线程又被称为轻量级的进程\n",
    "- 线程特征\n",
    "  - 线程是计算机核心分配的最小单位\n",
    "  - 一个进程可以包含多个线程\n",
    "  - 线程也是一个运行过程.也要消耗计算机资源.多个线程共享其进程的资源和空间\n",
    "  - 线程也拥有自己特有的资源属性,比如指令集,TID等\n",
    "  - 线程无论创建还是删除还是运行\n",
    "  \n",
    "## threadind 模块创建线程\n",
    "- threadind.Thread() \n",
    "  - 功能:创建线程对象\n",
    "  - 参数:name 线程名称  target 线程函数   args 元组  给线程函数传参   kwargs 字典 给线程函数传参\n",
    "\n",
    "- t.start() 启动\n",
    "- t.join()  回收\n",
    "\n",
    "## 线程属性\n",
    "- t.is_alive()  查看线程属性\n",
    "- t.name 线程名称 默认"
   ]
  },
  {
   "cell_type": "code",
   "execution_count": 4,
   "metadata": {},
   "outputs": [
    {
     "name": "stdout",
     "output_type": "stream",
     "text": [
      "==================\n",
      "True\n"
     ]
    },
    {
     "ename": "KeyboardInterrupt",
     "evalue": "",
     "output_type": "error",
     "traceback": [
      "\u001b[0;31m---------------------------------------------------------------------------\u001b[0m",
      "\u001b[0;31mKeyboardInterrupt\u001b[0m                         Traceback (most recent call last)",
      "\u001b[0;32m<ipython-input-4-9233fc62677f>\u001b[0m in \u001b[0;36m<module>\u001b[0;34m()\u001b[0m\n\u001b[1;32m     13\u001b[0m \u001b[0;34m\u001b[0m\u001b[0m\n\u001b[1;32m     14\u001b[0m \u001b[0me\u001b[0m\u001b[0;34m.\u001b[0m\u001b[0mclear\u001b[0m\u001b[0;34m(\u001b[0m\u001b[0;34m)\u001b[0m\u001b[0;34m\u001b[0m\u001b[0m\n\u001b[0;32m---> 15\u001b[0;31m \u001b[0me\u001b[0m\u001b[0;34m.\u001b[0m\u001b[0mwait\u001b[0m\u001b[0;34m(\u001b[0m\u001b[0;34m)\u001b[0m\u001b[0;34m\u001b[0m\u001b[0m\n\u001b[0m\u001b[1;32m     16\u001b[0m \u001b[0;34m\u001b[0m\u001b[0m\n\u001b[1;32m     17\u001b[0m \u001b[0;34m\u001b[0m\u001b[0m\n",
      "\u001b[0;32m~/anaconda3/lib/python3.6/multiprocessing/synchronize.py\u001b[0m in \u001b[0;36mwait\u001b[0;34m(self, timeout)\u001b[0m\n\u001b[1;32m    359\u001b[0m                 \u001b[0mself\u001b[0m\u001b[0;34m.\u001b[0m\u001b[0m_flag\u001b[0m\u001b[0;34m.\u001b[0m\u001b[0mrelease\u001b[0m\u001b[0;34m(\u001b[0m\u001b[0;34m)\u001b[0m\u001b[0;34m\u001b[0m\u001b[0m\n\u001b[1;32m    360\u001b[0m             \u001b[0;32melse\u001b[0m\u001b[0;34m:\u001b[0m\u001b[0;34m\u001b[0m\u001b[0m\n\u001b[0;32m--> 361\u001b[0;31m                 \u001b[0mself\u001b[0m\u001b[0;34m.\u001b[0m\u001b[0m_cond\u001b[0m\u001b[0;34m.\u001b[0m\u001b[0mwait\u001b[0m\u001b[0;34m(\u001b[0m\u001b[0mtimeout\u001b[0m\u001b[0;34m)\u001b[0m\u001b[0;34m\u001b[0m\u001b[0m\n\u001b[0m\u001b[1;32m    362\u001b[0m \u001b[0;34m\u001b[0m\u001b[0m\n\u001b[1;32m    363\u001b[0m             \u001b[0;32mif\u001b[0m \u001b[0mself\u001b[0m\u001b[0;34m.\u001b[0m\u001b[0m_flag\u001b[0m\u001b[0;34m.\u001b[0m\u001b[0macquire\u001b[0m\u001b[0;34m(\u001b[0m\u001b[0;32mFalse\u001b[0m\u001b[0;34m)\u001b[0m\u001b[0;34m:\u001b[0m\u001b[0;34m\u001b[0m\u001b[0m\n",
      "\u001b[0;32m~/anaconda3/lib/python3.6/multiprocessing/synchronize.py\u001b[0m in \u001b[0;36mwait\u001b[0;34m(self, timeout)\u001b[0m\n\u001b[1;32m    260\u001b[0m         \u001b[0;32mtry\u001b[0m\u001b[0;34m:\u001b[0m\u001b[0;34m\u001b[0m\u001b[0m\n\u001b[1;32m    261\u001b[0m             \u001b[0;31m# wait for notification or timeout\u001b[0m\u001b[0;34m\u001b[0m\u001b[0;34m\u001b[0m\u001b[0m\n\u001b[0;32m--> 262\u001b[0;31m             \u001b[0;32mreturn\u001b[0m \u001b[0mself\u001b[0m\u001b[0;34m.\u001b[0m\u001b[0m_wait_semaphore\u001b[0m\u001b[0;34m.\u001b[0m\u001b[0macquire\u001b[0m\u001b[0;34m(\u001b[0m\u001b[0;32mTrue\u001b[0m\u001b[0;34m,\u001b[0m \u001b[0mtimeout\u001b[0m\u001b[0;34m)\u001b[0m\u001b[0;34m\u001b[0m\u001b[0m\n\u001b[0m\u001b[1;32m    263\u001b[0m         \u001b[0;32mfinally\u001b[0m\u001b[0;34m:\u001b[0m\u001b[0;34m\u001b[0m\u001b[0m\n\u001b[1;32m    264\u001b[0m             \u001b[0;31m# indicate that this thread has woken\u001b[0m\u001b[0;34m\u001b[0m\u001b[0;34m\u001b[0m\u001b[0m\n",
      "\u001b[0;31mKeyboardInterrupt\u001b[0m: "
     ]
    }
   ],
   "source": [
    "from multiprocessing import Event\n",
    "\n",
    "e = Event()\n",
    "\n",
    "e.set()\n",
    "\n",
    "e.wait(5)\n",
    "\n",
    "\n",
    "\n",
    "print('==================')\n",
    "print(e.is_set())\n",
    "\n",
    "e.clear()\n",
    "e.wait()\n",
    "\n",
    "\n",
    "\n",
    "\n"
   ]
  },
  {
   "cell_type": "code",
   "execution_count": 11,
   "metadata": {},
   "outputs": [
    {
     "name": "stdout",
     "output_type": "stream",
     "text": [
      "想操作临界区,但是要等主进程操作完\n",
      "也想操作临界区,但是也要等主进程操作完\n",
      "主进程要先操作资源\n",
      "等不了了,不等了造先执行别的 False\n",
      "主进程操作完了,可以操作 True\n",
      "主进程操作完毕,set\n"
     ]
    }
   ],
   "source": [
    "from multiprocessing import Process,Event\n",
    "from time import sleep\n",
    "'''\n",
    "三个进程都要操作共享资源\n",
    "要求必须主进程德操作\n",
    "在子进程谁先操作都可以,但是有一个子进程不能长期阻塞\n",
    "\n",
    "'''\n",
    "\n",
    "def wait_event():\n",
    "    print('想操作临界区,但是要等主进程操作完')\n",
    "    e.wait()\n",
    "    print('主进程操作完了,可以操作',e.is_set())\n",
    "    \n",
    "def wait_event_timeout(sec):\n",
    "    print('也想操作临界区,但是也要等主进程操作完')\n",
    "    e.wait(sec)\n",
    "    print('等不了了,不等了造先执行别的',e.is_set())\n",
    "    \n",
    "e = Event()\n",
    "\n",
    "p1 = Process(target=wait_event)\n",
    "p2 = Process(target=wait_event_timeout,args=(2,))\n",
    "\n",
    "p1.start()\n",
    "p2.start()\n",
    "\n",
    "print('主进程要先操作资源')\n",
    "sleep(3)\n",
    "print('主进程操作完毕,set')\n",
    "e.set()\n",
    "\n",
    "p1.join()\n",
    "p2.join()\n"
   ]
  },
  {
   "cell_type": "code",
   "execution_count": 14,
   "metadata": {},
   "outputs": [
    {
     "name": "stdout",
     "output_type": "stream",
     "text": [
      "想听扶摇 4261\n",
      "播放葫芦娃 4261\n",
      "想听扶摇 4261\n",
      "播放葫芦娃 4261\n",
      "想听扶摇 4261\n",
      "想听扶摇 4261\n",
      "播放葫芦娃 4261\n",
      "想听扶摇 4261\n",
      "播放葫芦娃 4261\n",
      "播放葫芦娃 4261\n",
      "10000\n"
     ]
    }
   ],
   "source": [
    "import threading \n",
    "from time import sleep\n",
    "import os\n",
    "\n",
    "\n",
    "a = 1\n",
    "# 线程函数\n",
    "def music():\n",
    "    global a\n",
    "    a = 10000\n",
    "    for i in range(5):\n",
    "        sleep(2)\n",
    "        print('播放葫芦娃',os.getpid())\n",
    "        \n",
    "        \n",
    "t = threading.Thread(target=music)\n",
    "    \n",
    "t.start()\n",
    "\n",
    "for i in range(5):\n",
    "    sleep(1.5)\n",
    "    print('想听扶摇',os.getpid())\n",
    "    \n",
    "t.join()\n",
    "print(a)\n"
   ]
  },
  {
   "cell_type": "code",
   "execution_count": 25,
   "metadata": {},
   "outputs": [
    {
     "name": "stdout",
     "output_type": "stream",
     "text": [
      "线程属性测试\n",
      "True\n",
      "线程属性测试\n",
      "True\n",
      "线程属性测试\n",
      "True\n",
      "tedu0\n",
      "heronghua\n",
      "tedu2\n"
     ]
    }
   ],
   "source": [
    "from threading import Thread,currentThread\n",
    "from time import sleep\n",
    "\n",
    "def fun(set):\n",
    "    print('线程属性测试')\n",
    "    sleep(set)\n",
    "    print(currentThread().getName())\n",
    "    \n",
    "thread = []\n",
    "\n",
    "for i in range(3):\n",
    "    t = Thread(target=fun,name='tedu%d'%i,args=(3,))\n",
    "    thread.append(t)\n",
    "    t.start()\n",
    "    print(t.is_alive())\n",
    "thread[1].setName(\"heronghua\")\n",
    "\n",
    "    \n",
    "    \n",
    "for i in thread:\n",
    "    i.join()\n",
    "    "
   ]
  },
  {
   "cell_type": "code",
   "execution_count": 2,
   "metadata": {},
   "outputs": [
    {
     "name": "stdout",
     "output_type": "stream",
     "text": [
      "Playing 凉凉:Mon Jul 16 17:25:23 2018\n",
      "Playing 凉凉:Mon Jul 16 17:25:26 2018\n"
     ]
    }
   ],
   "source": [
    "from threading import Thread\n",
    "from time import ctime,sleep\n",
    "\n",
    "class MyThread(Thread):\n",
    "    def __init__(self,target,name='tedu',args=(),kwargs={}):\n",
    "        super().__init__()\n",
    "        self.name = name\n",
    "        self.target= target\n",
    "        self.args = args\n",
    "        self.kwargs = kwargs\n",
    "    \n",
    "    def run(self):\n",
    "        self.target(*self.args)\n",
    "    \n",
    "\n",
    "\n",
    "def player(song,sec):\n",
    "    for i in range(2):\n",
    "        print('Playing %s:%s'%(song,ctime()))\n",
    "        sleep(sec)\n",
    "    \n",
    "t = MyThread(target=player,args=('凉凉',3))\n",
    "t.start()\n",
    "t.join()\n",
    "\n",
    "\n",
    "wlp4s0\n",
    "\n",
    "\n",
    "\n",
    "\n",
    "\n",
    "\n",
    "\n",
    "\n",
    "\n",
    "\n",
    "\n"
   ]
  },
  {
   "cell_type": "markdown",
   "metadata": {},
   "source": []
  }
 ],
 "metadata": {
  "kernelspec": {
   "display_name": "Python 3",
   "language": "python",
   "name": "python3"
  },
  "language_info": {
   "codemirror_mode": {
    "name": "ipython",
    "version": 3
   },
   "file_extension": ".py",
   "mimetype": "text/x-python",
   "name": "python",
   "nbconvert_exporter": "python",
   "pygments_lexer": "ipython3",
   "version": "3.6.5"
  }
 },
 "nbformat": 4,
 "nbformat_minor": 2
}
