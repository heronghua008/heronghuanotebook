{
 "cells": [
  {
   "cell_type": "markdown",
   "metadata": {},
   "source": [
    "# mongodb 命令\n",
    "\n",
    "## 库的操作\n",
    "- use 库的名字 : 没有这个库就创建库\n",
    "- show  dbs   : 查看系统下的库\n",
    "- db  :  mongo系统全局变量，代表你当前正在使用的数据库,如果use没有选择任何数据库时，db表示test。此时插入数据则创建test数据库\n",
    "- mongodump -h 库的ip  -d  库的名字  -o  要备分到的文件夹  :  备分库\n",
    "- mongorestore -h  库的ip:端口号  -d 库名 备分库文件夹/备分库名 : 恢复库   \n",
    "- 下面两个直接在终端输入\n",
    "  - mongostat: 数据库的监测\n",
    "  - mongotop : 监测每个数据的读写时长\n",
    "- db.dropDatabase() : 删除db当前所代表的数据库\n",
    "\n",
    "## 集合的操作 collection [kəˈlɛkʃən]\n",
    "\n",
    "- db.createCollection(要创建集合的名字) : 创建集合\n",
    "- show collections :   查看库中的集合\n",
    "- show tables  : 也可以查看库中的集合\n",
    "- db.collectionName.insert(...) : 当向一个集合中插入数据时候,如果这个集合没有则自动创建\n",
    "- db.collectionName.drop() : 删除集合\n",
    "- db.collectionName.renameCollection('new_name') : 集合重命名\n",
    "\n",
    "## 文档的操作\n",
    "\n",
    "- db.collectionName.insert() : 插入单个文档\n",
    "- db.collection.find()  : 查看集合中的文档\n",
    "- db.collectionName.insert({},{},{}) :插入多个文档\n",
    "- db.collectionName.save() : 如果不加_id选项时save跟insert相同;如果加_id项，则如果此_id值存在则save表示修改该文档内容，如果不存在则正常插入\n",
    "\n",
    "\n"
   ]
  }
 ],
 "metadata": {
  "kernelspec": {
   "display_name": "Python 3",
   "language": "python",
   "name": "python3"
  },
  "language_info": {
   "codemirror_mode": {
    "name": "ipython",
    "version": 3
   },
   "file_extension": ".py",
   "mimetype": "text/x-python",
   "name": "python",
   "nbconvert_exporter": "python",
   "pygments_lexer": "ipython3",
   "version": "3.6.5"
  }
 },
 "nbformat": 4,
 "nbformat_minor": 2
}
