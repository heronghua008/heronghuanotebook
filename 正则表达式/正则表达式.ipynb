{
 "cells": [
  {
   "cell_type": "markdown",
   "metadata": {},
   "source": [
    "## 正则表达式\n",
    "### 动机\n",
    "  1. 文本处理已经成为计算机常见工作之一\n",
    "  2. 对文本内容的搜索,定位,提取是逻辑比较复杂的工作\n",
    "  3. 为了快速方便的解决上述问题，产生了正则表达式技术。\n",
    "\n",
    "\n",
    "### 定义 ：\n",
    "- 即文本的高级匹配模式，提供搜索，替代等功能。本质是由一系列特殊符号和字符组成的字串，  \n",
    "这个字串即是正则表达式。这个表达式描述了字符和字符的重复行为，可以匹配一类特征的字符串。 \n",
    "\n",
    "### 特点：\n",
    "* 方便进行检索修改的文本操作\n",
    "* 支持语言众多\n",
    "* 使用灵活多样\n",
    "\n",
    "### python ----> re模块 处理正则表达式\n",
    "- **re.findall(pattern,string)**\n",
    "  - 功能：使用正则表达式匹配字符串\n",
    "  - 参数：\n",
    "    - pattern  正则表达式\n",
    "    - string   目标字符串\n",
    "- **返回值：返回一个列表，列表中为匹配到的内容**\n"
   ]
  },
  {
   "cell_type": "code",
   "execution_count": 2,
   "metadata": {},
   "outputs": [
    {
     "data": {
      "text/plain": [
       "['Levi@126.com', 'lvze@tedu.cn']"
      ]
     },
     "execution_count": 2,
     "metadata": {},
     "output_type": "execute_result"
    }
   ],
   "source": [
    "import re \n",
    "s = 'my email is Levi@126.com or lvze@tedu.cn'\n",
    "re.findall('\\w+@\\w+\\.\\w{2,3}',s)"
   ]
  },
  {
   "cell_type": "markdown",
   "metadata": {},
   "source": [
    "### 1.普通字符\n",
    "- 元字符 ： a b c\n",
    "- 匹配规则：匹配相应的字符"
   ]
  },
  {
   "cell_type": "code",
   "execution_count": 4,
   "metadata": {},
   "outputs": [
    {
     "data": {
      "text/plain": [
       "['abc', 'abc']"
      ]
     },
     "execution_count": 4,
     "metadata": {},
     "output_type": "execute_result"
    }
   ],
   "source": [
    "re.findall('abc',\"abcdefghabc\")"
   ]
  },
  {
   "cell_type": "markdown",
   "metadata": {},
   "source": [
    "### 2.或\n",
    "- 元字符  |\n",
    "- 匹配规则：匹配 | 两边任意一个正则表达式的内容\n",
    "- |左右不要加没用的空格"
   ]
  },
  {
   "cell_type": "code",
   "execution_count": 5,
   "metadata": {},
   "outputs": [
    {
     "data": {
      "text/plain": [
       "['ab', 'cd', 'ab', 'cd']"
      ]
     },
     "execution_count": 5,
     "metadata": {},
     "output_type": "execute_result"
    }
   ],
   "source": [
    "re.findall('ab|cd','abcdefgabasdfcd')"
   ]
  },
  {
   "cell_type": "code",
   "execution_count": 7,
   "metadata": {},
   "outputs": [
    {
     "data": {
      "text/plain": [
       "['abc', 'abc']"
      ]
     },
     "execution_count": 7,
     "metadata": {},
     "output_type": "execute_result"
    }
   ],
   "source": [
    "re.findall('abc|bcd','abcdefabc') # 重合的部分不取值"
   ]
  },
  {
   "cell_type": "markdown",
   "metadata": {},
   "source": [
    "### 3. 匹配单一字符\n",
    "- 元字符 ：  .\n",
    "- 匹配规则：匹配除换行外的任意字符"
   ]
  },
  {
   "cell_type": "code",
   "execution_count": 8,
   "metadata": {},
   "outputs": [
    {
     "data": {
      "text/plain": [
       "['foo', 'fao']"
      ]
     },
     "execution_count": 8,
     "metadata": {},
     "output_type": "execute_result"
    }
   ],
   "source": [
    "re.findall('f.o','foo is not fao')"
   ]
  },
  {
   "cell_type": "markdown",
   "metadata": {},
   "source": [
    "### 4.匹配开始位置\n",
    "- 元字符 ： ^ \n",
    "- 匹配规则：匹配字符串的开头位置"
   ]
  },
  {
   "cell_type": "code",
   "execution_count": 9,
   "metadata": {},
   "outputs": [
    {
     "data": {
      "text/plain": [
       "['hello']"
      ]
     },
     "execution_count": 9,
     "metadata": {},
     "output_type": "execute_result"
    }
   ],
   "source": [
    "re.findall('^hello','hello world')"
   ]
  },
  {
   "cell_type": "markdown",
   "metadata": {},
   "source": [
    "### 5.匹配结束位置\n",
    "- 元字符 ： \\$ \n",
    "- 匹配规则： 匹配目标字符串的结束位置"
   ]
  },
  {
   "cell_type": "code",
   "execution_count": 15,
   "metadata": {},
   "outputs": [
    {
     "data": {
      "text/plain": [
       "['py']"
      ]
     },
     "execution_count": 15,
     "metadata": {},
     "output_type": "execute_result"
    }
   ],
   "source": [
    "re.findall('py$','hello.py')"
   ]
  },
  {
   "cell_type": "markdown",
   "metadata": {},
   "source": [
    "### 6.匹配重复\n",
    "- 元字符：  * \n",
    "- 匹配规则： 匹配前面的正则表达式0次或多次"
   ]
  },
  {
   "cell_type": "code",
   "execution_count": 18,
   "metadata": {},
   "outputs": [
    {
     "data": {
      "text/plain": [
       "['ab', 'abbb', 'a', 'a', 'a', 'a', 'a']"
      ]
     },
     "execution_count": 18,
     "metadata": {},
     "output_type": "execute_result"
    }
   ],
   "source": [
    "re.findall('ab*','ababbbcadfsdfaaaafbbbbbb')"
   ]
  },
  {
   "cell_type": "code",
   "execution_count": 19,
   "metadata": {},
   "outputs": [
    {
     "data": {
      "text/plain": [
       "['', 'b', '', 'bbb', '', '', '', '', '', '', '', '']"
      ]
     },
     "execution_count": 19,
     "metadata": {},
     "output_type": "execute_result"
    }
   ],
   "source": [
    "re.findall('b*','ababbbcadfsdf') # 匹配单个字符的时候会以空字符串开头"
   ]
  },
  {
   "cell_type": "markdown",
   "metadata": {},
   "source": [
    "### 7.匹配重复\n",
    "- 元字符 ： + \n",
    "- 匹配规则： 匹配前面的正则表达式一次或多次"
   ]
  },
  {
   "cell_type": "code",
   "execution_count": 35,
   "metadata": {},
   "outputs": [
    {
     "data": {
      "text/plain": [
       "['abbbbbbbb', 'ab']"
      ]
     },
     "execution_count": 35,
     "metadata": {},
     "output_type": "execute_result"
    }
   ],
   "source": [
    "re.findall('ab+','abbbbbbbbscaaaaadsfab')"
   ]
  },
  {
   "cell_type": "markdown",
   "metadata": {},
   "source": [
    "### 8.匹配重复\n",
    "- 元字符 ： ？\n",
    "- 匹配规则： 匹配前面的正则表达式0次或1次"
   ]
  },
  {
   "cell_type": "code",
   "execution_count": 37,
   "metadata": {},
   "outputs": [
    {
     "data": {
      "text/plain": [
       "['ab', 'a', 'ab']"
      ]
     },
     "execution_count": 37,
     "metadata": {},
     "output_type": "execute_result"
    }
   ],
   "source": [
    "re.findall('ab?','ablkasdjfabbbbb')"
   ]
  },
  {
   "cell_type": "markdown",
   "metadata": {},
   "source": [
    "### 9.匹配重复\n",
    "- 元字符 ： ｛n｝\n",
    "- 匹配规则： 匹配指定的重复次数\n",
    "- ab{3} ----》 abbb"
   ]
  },
  {
   "cell_type": "code",
   "execution_count": 52,
   "metadata": {},
   "outputs": [
    {
     "data": {
      "text/plain": [
       "['abbb', 'abbb']"
      ]
     },
     "execution_count": 52,
     "metadata": {},
     "output_type": "execute_result"
    }
   ],
   "source": [
    "re.findall('ab{3}','ablkasdabbbjfabbbbbbb')"
   ]
  },
  {
   "cell_type": "markdown",
   "metadata": {},
   "source": [
    "### 10. 匹配重复\n",
    "- 元字符：｛m，n｝\n",
    "- 匹配规则：匹配前面的正则表达式m-n次\n",
    "- ab{3,5} -->  abbb  abbbb  abbbbb"
   ]
  },
  {
   "cell_type": "code",
   "execution_count": 50,
   "metadata": {},
   "outputs": [
    {
     "data": {
      "text/plain": [
       "['abb', 'abbbb']"
      ]
     },
     "execution_count": 50,
     "metadata": {},
     "output_type": "execute_result"
    }
   ],
   "source": [
    "re.findall('ab{2,4}','absaabbdfeaabbbb')"
   ]
  },
  {
   "cell_type": "markdown",
   "metadata": {},
   "source": [
    "### 11.匹配字符集合\n",
    "- 元字符： [字符集]\n",
    "- 匹配规则：匹配括号内的任意一个字符\n",
    "  - [abc123d]  a b c 1 2 3 d\n",
    "  - [a-z]  \n",
    "  - [A-Z]\n",
    "  - [0-9]\n",
    "  - [123a-zA-Z]"
   ]
  },
  {
   "cell_type": "code",
   "execution_count": 62,
   "metadata": {},
   "outputs": [
    {
     "data": {
      "text/plain": [
       "['hello world 123']"
      ]
     },
     "execution_count": 62,
     "metadata": {},
     "output_type": "execute_result"
    }
   ],
   "source": [
    "re.findall('[0-9a-zA-Z]+','hello world 123')"
   ]
  },
  {
   "cell_type": "markdown",
   "metadata": {},
   "source": [
    "## 12.匹配字符集合\n",
    "- 元字符 ： [^字符集]\n",
    "- 匹配规则： 匹配除了括号中字符集的任意一个字符\n",
    "\n",
    "- [^abc]  匹配除abc的任意一个字符"
   ]
  },
  {
   "cell_type": "code",
   "execution_count": 66,
   "metadata": {},
   "outputs": [
    {
     "data": {
      "text/plain": [
       "[' ', 'l', 'i', 't', 't', 'l', 'e', ' ', 'o', 'y', '\\n']"
      ]
     },
     "execution_count": 66,
     "metadata": {},
     "output_type": "execute_result"
    }
   ],
   "source": [
    "re.findall('[^abcd]','a little boy')"
   ]
  },
  {
   "cell_type": "markdown",
   "metadata": {},
   "source": [
    "### 13.匹配任意（非）数字字符\n",
    "- 元字符：  \\d    \\D \n",
    "- 匹配规则：\n",
    "  - \\d匹配任意数字字符   \n",
    "  - \\D匹配任意非数字"
   ]
  },
  {
   "cell_type": "code",
   "execution_count": 73,
   "metadata": {},
   "outputs": [
    {
     "data": {
      "text/plain": [
       "['17778965439']"
      ]
     },
     "execution_count": 73,
     "metadata": {},
     "output_type": "execute_result"
    }
   ],
   "source": [
    "re.findall('1\\d{10}','17778965439')"
   ]
  },
  {
   "cell_type": "code",
   "execution_count": 77,
   "metadata": {},
   "outputs": [
    {
     "data": {
      "text/plain": [
       "['DJJJLLJHHJJJFD', 'GH']"
      ]
     },
     "execution_count": 77,
     "metadata": {},
     "output_type": "execute_result"
    }
   ],
   "source": [
    "re.findall('\\D+','1777DJJJLLJHHJJJFD89GH65439')"
   ]
  },
  {
   "cell_type": "markdown",
   "metadata": {},
   "source": [
    "### 14.匹配（非）普通字符 （数字字母下划线）\n",
    "- 元字符： \\w     \\W \n",
    "- 匹配规则： \n",
    "  - \\w 普通字符  \\[_0-9a-zA-Z]\n",
    "  - \\W非普通字符  \\[^_0-9a-zA-Z]"
   ]
  },
  {
   "cell_type": "code",
   "execution_count": 81,
   "metadata": {},
   "outputs": [
    {
     "data": {
      "text/plain": [
       "['hello', '1', '何荣华']"
      ]
     },
     "execution_count": 81,
     "metadata": {},
     "output_type": "execute_result"
    }
   ],
   "source": [
    "re.findall('\\w+',\"hello$1 何荣华\")"
   ]
  },
  {
   "cell_type": "code",
   "execution_count": 80,
   "metadata": {},
   "outputs": [
    {
     "data": {
      "text/plain": [
       "['$1']"
      ]
     },
     "execution_count": 80,
     "metadata": {},
     "output_type": "execute_result"
    }
   ],
   "source": [
    "re.findall('\\W\\w',\"hello$1\")"
   ]
  },
  {
   "cell_type": "markdown",
   "metadata": {},
   "source": [
    "### 15.匹配（非）空字符   （空格，\\r \\t \\n ）\n",
    "- 元字符 ： \\s   \\S \n",
    "- 匹配规则： \n",
    "  - \\s 空字符    \n",
    "  - \\S 非空字符"
   ]
  },
  {
   "cell_type": "code",
   "execution_count": 82,
   "metadata": {},
   "outputs": [
    {
     "data": {
      "text/plain": [
       "['   ', '\\r\\n\\t']"
      ]
     },
     "execution_count": 82,
     "metadata": {},
     "output_type": "execute_result"
    }
   ],
   "source": [
    "re.findall('\\s+',\"hello   world\\r\\n\\t\")"
   ]
  },
  {
   "cell_type": "code",
   "execution_count": 83,
   "metadata": {},
   "outputs": [
    {
     "data": {
      "text/plain": [
       "['hello', 'world']"
      ]
     },
     "execution_count": 83,
     "metadata": {},
     "output_type": "execute_result"
    }
   ],
   "source": [
    "re.findall('\\S+',\"hello   world\")"
   ]
  },
  {
   "cell_type": "markdown",
   "metadata": {},
   "source": [
    "### 16.匹配起止位置\n",
    "- 元字符 ： \\A     \\Z\n",
    "- 匹配规则： \n",
    "  - \\A 匹配开始位置  \n",
    "  - \\Z匹配结束位置\n",
    "* 绝对匹配：正则表达式前后加^$。"
   ]
  },
  {
   "cell_type": "code",
   "execution_count": 84,
   "metadata": {},
   "outputs": [
    {
     "data": {
      "text/plain": [
       "['hello']"
      ]
     },
     "execution_count": 84,
     "metadata": {},
     "output_type": "execute_result"
    }
   ],
   "source": [
    "re.findall('\\Ahello\\Z',\"hello\")"
   ]
  },
  {
   "cell_type": "code",
   "execution_count": 87,
   "metadata": {},
   "outputs": [
    {
     "data": {
      "text/plain": [
       "'1\\x0c1'"
      ]
     },
     "execution_count": 87,
     "metadata": {},
     "output_type": "execute_result"
    }
   ],
   "source": [
    "'1\\f1'"
   ]
  },
  {
   "cell_type": "markdown",
   "metadata": {},
   "source": [
    "### 17. 匹配（非）单词边界位置  \n",
    "（普通字符和非普通字符的交界处为单词边界）\n",
    "- 元字符：  \\b     \\B\n",
    "- 匹配规则： \n",
    "  - \\b单词边界位置  \n",
    "  - \\B非单词边界\n"
   ]
  },
  {
   "cell_type": "code",
   "execution_count": 108,
   "metadata": {},
   "outputs": [
    {
     "data": {
      "text/plain": [
       "['is']"
      ]
     },
     "execution_count": 108,
     "metadata": {},
     "output_type": "execute_result"
    }
   ],
   "source": [
    "re.findall('\\Bis',\"This is a  test\")"
   ]
  },
  {
   "cell_type": "code",
   "execution_count": 107,
   "metadata": {},
   "outputs": [
    {
     "data": {
      "text/plain": [
       "[]"
      ]
     },
     "execution_count": 107,
     "metadata": {},
     "output_type": "execute_result"
    }
   ],
   "source": [
    "re.findall(r'\\b成都\\b',\"成都，成都接头走一走\")"
   ]
  },
  {
   "cell_type": "markdown",
   "metadata": {},
   "source": [
    "## 元字符总结\n",
    "[介绍正则表达式博客地址](http://www.cnblogs.com/Eva-J/articles/7228075.html#_label10)\n",
    "![元字符](2018-07-25 09-22-24 的屏幕截图.png)"
   ]
  },
  {
   "cell_type": "markdown",
   "metadata": {},
   "source": [
    "### 正则表达式转义\n",
    "- raw 字符串 ： 原生字符串，字符串内容就是本身不进行任何转义\n",
    "- 用法： r\"hello\""
   ]
  },
  {
   "cell_type": "markdown",
   "metadata": {},
   "source": [
    "## 贪婪与非贪婪\n",
    "- 贪婪模式 ： 正则表达式的重复匹配默认总是尽可能多的向后匹配内容\n",
    "  - \\*   +   ？  ｛m,n｝\n",
    "- 非贪婪模式 ： 尽可能少的匹配内容\n",
    "  - 贪婪---》非贪婪   *？  +？ ??  ｛m,n｝？"
   ]
  },
  {
   "cell_type": "code",
   "execution_count": 111,
   "metadata": {},
   "outputs": [
    {
     "data": {
      "text/plain": [
       "['a']"
      ]
     },
     "execution_count": 111,
     "metadata": {},
     "output_type": "execute_result"
    }
   ],
   "source": [
    "re.findall(r'ab*?',\"abbbbb\")"
   ]
  },
  {
   "cell_type": "code",
   "execution_count": 112,
   "metadata": {},
   "outputs": [
    {
     "data": {
      "text/plain": [
       "['ab']"
      ]
     },
     "execution_count": 112,
     "metadata": {},
     "output_type": "execute_result"
    }
   ],
   "source": [
    "re.findall(r'ab+?',\"abbbbb\")"
   ]
  },
  {
   "cell_type": "code",
   "execution_count": 113,
   "metadata": {},
   "outputs": [
    {
     "data": {
      "text/plain": [
       "['a']"
      ]
     },
     "execution_count": 113,
     "metadata": {},
     "output_type": "execute_result"
    }
   ],
   "source": [
    "re.findall(r'ab??',\"abbbbb\")"
   ]
  },
  {
   "cell_type": "code",
   "execution_count": 114,
   "metadata": {},
   "outputs": [
    {
     "data": {
      "text/plain": [
       "['abbbbb']"
      ]
     },
     "execution_count": 114,
     "metadata": {},
     "output_type": "execute_result"
    }
   ],
   "source": [
    "re.findall(r'ab{3,5}',\"abbbbb\")"
   ]
  },
  {
   "cell_type": "markdown",
   "metadata": {},
   "source": [
    "### 正则表达式分组\n",
    "- 使用()可以为一个正则表达式建立子组,子组可以看做是一个局部的整体部分\n",
    "- **子组的作用：**\n",
    "  - 1.子组可以改变正则表达式的重复行为"
   ]
  },
  {
   "cell_type": "code",
   "execution_count": 115,
   "metadata": {},
   "outputs": [
    {
     "data": {
      "text/plain": [
       "'ababababab'"
      ]
     },
     "execution_count": 115,
     "metadata": {},
     "output_type": "execute_result"
    }
   ],
   "source": [
    "re.search(r'(ab)+',\"ababababab\").group()"
   ]
  },
  {
   "cell_type": "markdown",
   "metadata": {},
   "source": [
    "- 2.子组在某些操作中可以单独提取匹配内容"
   ]
  },
  {
   "cell_type": "code",
   "execution_count": 122,
   "metadata": {},
   "outputs": [
    {
     "data": {
      "text/plain": [
       "'ab'"
      ]
     },
     "execution_count": 122,
     "metadata": {},
     "output_type": "execute_result"
    }
   ],
   "source": [
    "re.search(r'(ab)+',\"ababababab\").group(1)"
   ]
  },
  {
   "cell_type": "markdown",
   "metadata": {},
   "source": [
    "- **子组的使用注意事项**\n",
    "  - 一个正则表达式中可以有多个子组,正则表达式依然是通过整体匹配内容\n",
    "  - 子组由外到内,由左到右为第一第二第三.....子组\n",
    "    - ((ab)cd(ef)g) ----> abcdefg   ab  ef\n",
    "  - 子组内容不会重叠\n",
    "- **捕获组和非捕获组 （命名组和非命名组）**\n",
    "  - 格式:(?P\\<name\\>pattern)\n",
    "  - 命名作用:\n",
    "    1. 很多编程接口可以通过名称获取指定组的内容 \n",
    "    2. 命名组可以被重复调用\n",
    "      - 调用格式:(?P=name)\n",
    "    "
   ]
  },
  {
   "cell_type": "code",
   "execution_count": 123,
   "metadata": {},
   "outputs": [
    {
     "data": {
      "text/plain": [
       "'abcdef'"
      ]
     },
     "execution_count": 123,
     "metadata": {},
     "output_type": "execute_result"
    }
   ],
   "source": [
    "re.search(r'(?P<dog>ab)cdef+',\"abcdefgh\").group()"
   ]
  },
  {
   "cell_type": "code",
   "execution_count": 125,
   "metadata": {},
   "outputs": [
    {
     "data": {
      "text/plain": [
       "'abcdab'"
      ]
     },
     "execution_count": 125,
     "metadata": {},
     "output_type": "execute_result"
    }
   ],
   "source": [
    "re.search(r'(?P<dog>ab)cd(?P=dog)',\"abcdab\").group()"
   ]
  },
  {
   "cell_type": "markdown",
   "metadata": {},
   "source": [
    "- **正则表达式设计原则**\n",
    "  - 正确性,能够正确的匹配要求内容\n",
    "  - 唯一性,除了需要匹配的内容,尽可能不匹配不需要的内容\n",
    "  - 全面性,对目标特征考虑全面不遗漏"
   ]
  },
  {
   "cell_type": "code",
   "execution_count": 127,
   "metadata": {},
   "outputs": [
    {
     "data": {
      "text/plain": [
       "'21803119950425135x'"
      ]
     },
     "execution_count": 127,
     "metadata": {},
     "output_type": "execute_result"
    }
   ],
   "source": [
    "# 匹配身份证号\n",
    "re.search(r'\\d{17}(\\d|x)',\"21803119950425135x\").group()"
   ]
  },
  {
   "cell_type": "markdown",
   "metadata": {},
   "source": [
    "# re模块\n",
    "\n",
    "- **regex = re.compile(pattern,flags=0)**\n",
    "  - 功能:生成正则表达式对象\n",
    "  - 参数: \n",
    "    - pattern 正则表达式\n",
    "    - flags  功能标志位,丰富正则的匹配功能\n",
    "  - 返回值:正则表达式对象\n",
    "  \n",
    "- **list = re.findall(pattern,string,flags)**\n",
    "  - 功能:根据正则表达式匹配内容\n",
    "  - 参数：\n",
    "    - pattern 正则表达式\n",
    "    - string  目标字符串\n",
    "\t- flags  功能标志位\n",
    "  - 返回值：\n",
    "    - 将匹配到的内容放入一个列表返回\n",
    "    - **如果有子组，只能返回子组匹配到的内容**\n",
    "  "
   ]
  },
  {
   "cell_type": "code",
   "execution_count": 148,
   "metadata": {},
   "outputs": [
    {
     "name": "stdout",
     "output_type": "stream",
     "text": [
      "[('abcdef', 'ab', 'ef'), ('abcdef', 'ab', 'ef')]\n"
     ]
    }
   ],
   "source": [
    "s = 'abcdefabghiabcdef'\n",
    "l = re.findall(r'((ab)cd(ef))',s)\n",
    "print(l)"
   ]
  },
  {
   "cell_type": "markdown",
   "metadata": {},
   "source": [
    "- **list = regex.findall(string,pos=0,endpos=999)**\n",
    "  - 功能:根据正则表达式匹配目标字符串\n",
    "  - 参数:\n",
    "    - string:目标字符串\n",
    "    - pos:标明从目标字符串的哪个位置开始匹配\n",
    "    - endpos:标明匹配到目标字符串的哪里\n",
    "  - 返回:\n",
    "    - 返回一个列表,内部为匹配到的内容"
   ]
  },
  {
   "cell_type": "code",
   "execution_count": 5,
   "metadata": {},
   "outputs": [
    {
     "name": "stdout",
     "output_type": "stream",
     "text": [
      "['abcd']\n"
     ]
    }
   ],
   "source": [
    "s = 'abcdefabghiabcdef'\n",
    "regex = re.compile(r'abcd')\n",
    "l = regex.findall(s,5)\n",
    "print(l)"
   ]
  },
  {
   "cell_type": "markdown",
   "metadata": {},
   "source": [
    "- **re.split(pattern,string,flags=0)**\n",
    "  - 功能:通过正则表达式分隔字符串\n",
    "  - 参数:\n",
    "    - pattern : 正则\n",
    "    - string : 目标字符串\n",
    "  - 返回值:分割后的字符串"
   ]
  },
  {
   "cell_type": "code",
   "execution_count": 10,
   "metadata": {},
   "outputs": [
    {
     "name": "stdout",
     "output_type": "stream",
     "text": [
      "['he', 'is', 'Tom']\n"
     ]
    }
   ],
   "source": [
    "s = 'he   is   Tom'\n",
    "l = re.split(r'\\s+',s)\n",
    "print(l)"
   ]
  },
  {
   "cell_type": "markdown",
   "metadata": {},
   "source": [
    "- **re.sub(pattern,replaceStr,string.max,flags)**\n",
    "  - 功能:替换正则表达式匹配到的内容\n",
    "  - 参数:\n",
    "    - pattern: 正则\n",
    "    - replaceStr: 要替换的内容 \n",
    "    - string:目标字符串\n",
    "    - max:最多替换几处\n",
    "  - 返回值:返回替换后的字符串\n",
    "  "
   ]
  },
  {
   "cell_type": "code",
   "execution_count": 15,
   "metadata": {},
   "outputs": [
    {
     "name": "stdout",
     "output_type": "stream",
     "text": [
      "hello陈维捷world陈维捷nihao china\n"
     ]
    }
   ],
   "source": [
    "s = re.sub(r'\\s+','陈维捷','hello world nihao china',2)\n",
    "print(s)"
   ]
  },
  {
   "cell_type": "markdown",
   "metadata": {},
   "source": [
    "- **re.sub(pattern,replaceStr,string.max,flags)**\n",
    "  - 功能:替换正则表达式匹配到的内容\n",
    "  - 参数:\n",
    "    - pattern: 正则\n",
    "    - replaceStr: 要替换的内容 \n",
    "    - string:目标字符串\n",
    "    - max:最多替换几处\n",
    "  - 返回值:返回替换后的字符串和替换了几处"
   ]
  },
  {
   "cell_type": "code",
   "execution_count": 20,
   "metadata": {},
   "outputs": [
    {
     "name": "stdout",
     "output_type": "stream",
     "text": [
      "('hello陈维捷world陈维捷nihao陈维捷china', 3)\n"
     ]
    }
   ],
   "source": [
    "s = re.subn(r'\\s+','陈维捷','hello world nihao china',20)\n",
    "print(s)"
   ]
  },
  {
   "cell_type": "markdown",
   "metadata": {},
   "source": [
    "- **re.finditer(pattern,string,flags)\n",
    "  - 功能:使用正则表达式匹配目标字符串\n",
    "  - 参数:\n",
    "    - pattern: 正则\n",
    "    - string: 目标字符串\n",
    "  - 返回值:将匹配内容生成"
   ]
  },
  {
   "cell_type": "code",
   "execution_count": 36,
   "metadata": {},
   "outputs": [
    {
     "name": "stdout",
     "output_type": "stream",
     "text": [
      "<_sre.SRE_Match object; span=(0, 4), match='2008'>\n",
      "<_sre.SRE_Match object; span=(12, 15), match='512'>\n",
      "<_sre.SRE_Match object; span=(18, 20), match='08'>\n"
     ]
    },
    {
     "data": {
      "text/plain": [
       "['__class__',\n",
       " '__copy__',\n",
       " '__deepcopy__',\n",
       " '__delattr__',\n",
       " '__dir__',\n",
       " '__doc__',\n",
       " '__eq__',\n",
       " '__format__',\n",
       " '__ge__',\n",
       " '__getattribute__',\n",
       " '__getitem__',\n",
       " '__gt__',\n",
       " '__hash__',\n",
       " '__init__',\n",
       " '__init_subclass__',\n",
       " '__le__',\n",
       " '__lt__',\n",
       " '__ne__',\n",
       " '__new__',\n",
       " '__reduce__',\n",
       " '__reduce_ex__',\n",
       " '__repr__',\n",
       " '__setattr__',\n",
       " '__sizeof__',\n",
       " '__str__',\n",
       " '__subclasshook__',\n",
       " 'end',\n",
       " 'endpos',\n",
       " 'expand',\n",
       " 'group',\n",
       " 'groupdict',\n",
       " 'groups',\n",
       " 'lastgroup',\n",
       " 'lastindex',\n",
       " 'pos',\n",
       " 're',\n",
       " 'regs',\n",
       " 'span',\n",
       " 'start',\n",
       " 'string']"
      ]
     },
     "execution_count": 36,
     "metadata": {},
     "output_type": "execute_result"
    }
   ],
   "source": [
    "s = '2008年是个多事之秋,512地震,08奥运等'\n",
    "it = re.finditer(r'\\d+',s)\n",
    "\n",
    "\n",
    "      \n",
    "for i in it:\n",
    "    print(i)\n",
    "dir(i)"
   ]
  },
  {
   "cell_type": "markdown",
   "metadata": {},
   "source": [
    "- **re.fullmatch(pattern,string,flags)**\n",
    "  - 功能:完全匹配目标字符串\n",
    "  - 参数:\n",
    "    - pattern 正则\n",
    "    - string 目标字符串\n",
    "  - 返回值:匹配到的内容(match object)\n"
   ]
  },
  {
   "cell_type": "code",
   "execution_count": 41,
   "metadata": {},
   "outputs": [
    {
     "name": "stdout",
     "output_type": "stream",
     "text": [
      "'NoneType' object has no attribute 'group'\n"
     ]
    }
   ],
   "source": [
    "try:\n",
    "    obj = re.fullmatch(r'\\w+','abcde#f123')\n",
    "    print(obj.group())\n",
    "except AttributeError as e:\n",
    "    print(e)"
   ]
  },
  {
   "cell_type": "markdown",
   "metadata": {},
   "source": [
    "- **re.match(pattern,string,flags)**\n",
    "  - 功能:完全匹配目标字符串开头\n",
    "  - 参数:\n",
    "    - pattern 正则\n",
    "    - string 目标字符串\n",
    "  - 返回值:匹配到的内容(match object)\n"
   ]
  },
  {
   "cell_type": "code",
   "execution_count": 58,
   "metadata": {},
   "outputs": [
    {
     "name": "stdout",
     "output_type": "stream",
     "text": [
      "foo\n"
     ]
    }
   ],
   "source": [
    "# 匹配字符串开始位置\n",
    "try:\n",
    "    obj = re.match('foo','foo,food on the table')\n",
    "    print(obj.group())\n",
    "except SyntaxError as e:\n",
    "    print(e)"
   ]
  },
  {
   "cell_type": "markdown",
   "metadata": {},
   "source": [
    "- **re.search(pattern,string,flags)**\n",
    "  - 功能:匹配目标字符串,只能匹配第一处\n",
    "  - 参数:\n",
    "    - pattern 正则\n",
    "    - string 目标字符串\n",
    "  - 返回值:匹配到的内容(match object)\n",
    "- **由于fullmatch  match search函数匹配不到会返回 None ，而None没有match对象的属性，所以往往需要用异常判断处理**"
   ]
  },
  {
   "cell_type": "code",
   "execution_count": 63,
   "metadata": {},
   "outputs": [
    {
     "name": "stdout",
     "output_type": "stream",
     "text": [
      "foo\n"
     ]
    }
   ],
   "source": [
    "# 匹配第一处内容\n",
    "try:\n",
    "    obj = re.search('foo','Foo,food on the table')\n",
    "    print(obj.group())\n",
    "except AttributeError as e:\n",
    "    print(e)"
   ]
  },
  {
   "cell_type": "markdown",
   "metadata": {},
   "source": [
    "## 正则对象其他属性\n",
    "- flags :  标志位\n",
    "- pattern ： 正则表达式\n",
    "- groups ： 有多少个子组\n",
    "- groupindex： \n",
    "  - 捕获组形成的字典\n",
    "  - 组名为键，第几组为值\n",
    "![dsfsdkjfds](re结构.png)"
   ]
  },
  {
   "cell_type": "markdown",
   "metadata": {},
   "source": [
    "## 作业\n",
    "1. 读取一个文本,将文本中所有以大写字母开头的单词匹配出来,将文本中数字匹配出来\n",
    "2. 熟练掌握元字符的匹配规则\n",
    "3. 将findall  finditer  match  search  sub  split  fullmatch 使用compile方法进行调用 \n",
    "4. 看一下之前的项目 "
   ]
  },
  {
   "cell_type": "code",
   "execution_count": 74,
   "metadata": {},
   "outputs": [
    {
     "name": "stdout",
     "output_type": "stream",
     "text": [
      "['Discover', 'Learn', 'Git', 'Git', 'Hub']\n"
     ]
    }
   ],
   "source": [
    "import re \n",
    "with open ('1.txt') as f:\n",
    "    s = f.read()\n",
    "    ret = re.findall('[A-Z][a-z]+',s)\n",
    "    print(ret)"
   ]
  },
  {
   "cell_type": "code",
   "execution_count": 72,
   "metadata": {},
   "outputs": [
    {
     "name": "stdout",
     "output_type": "stream",
     "text": [
      "['Hello', 'World']\n"
     ]
    }
   ],
   "source": []
  }
 ],
 "metadata": {
  "kernelspec": {
   "display_name": "Python 3",
   "language": "python",
   "name": "python3"
  },
  "language_info": {
   "codemirror_mode": {
    "name": "ipython",
    "version": 3
   },
   "file_extension": ".py",
   "mimetype": "text/x-python",
   "name": "python",
   "nbconvert_exporter": "python",
   "pygments_lexer": "ipython3",
   "version": "3.6.5"
  }
 },
 "nbformat": 4,
 "nbformat_minor": 2
}
