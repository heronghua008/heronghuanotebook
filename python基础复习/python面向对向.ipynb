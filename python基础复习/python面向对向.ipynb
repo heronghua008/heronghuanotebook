{
 "cells": [
  {
   "cell_type": "markdown",
   "metadata": {},
   "source": [
    "## 使用class定义类\n",
    "- 在类的定义中,\\__init__并不是必需的.只有当需要区分由该类创建的不同对象时,才需要指定\\__init__方法.\n",
    "- 在Person类定义的内部,可以直接通过self.name访问name特性.而当创建了一个实际的对象 后,例如这里的hunter,需要通过hunter.name来访问它.\n"
   ]
  },
  {
   "cell_type": "code",
   "execution_count": 5,
   "metadata": {},
   "outputs": [
    {
     "name": "stdout",
     "output_type": "stream",
     "text": [
      "Elmer Fudd\n"
     ]
    }
   ],
   "source": [
    "class Person():\n",
    "    def __init__(self,name): # 创建实例对象\n",
    "        self.name = name\n",
    "\n",
    "\n",
    "hunter = Person('Elmer Fudd')   # 创建一个对象\n",
    "\n",
    "print(hunter.name)"
   ]
  },
  {
   "cell_type": "markdown",
   "metadata": {},
   "source": [
    "## 继承"
   ]
  },
  {
   "cell_type": "code",
   "execution_count": 21,
   "metadata": {},
   "outputs": [
    {
     "name": "stdout",
     "output_type": "stream",
     "text": [
      "I'm a car!\n",
      "I'm a car!\n",
      "I'm a car!\n"
     ]
    }
   ],
   "source": [
    "class Car():      #父类\n",
    "    def exclaim(self):\n",
    "        print(\"I'm a car!\")\n",
    "        \n",
    "class Yugo(Car):  # 子类\n",
    "    pass\n",
    "\n",
    "hwe = Car()    \n",
    "hew = Yugo()\n",
    "\n",
    "hwe.exclaim()  \n",
    "hew.exclaim() #子类继承父类的exclaim()方法\n",
    "Car.exclaim(hwe)"
   ]
  },
  {
   "cell_type": "markdown",
   "metadata": {},
   "source": [
    "## 覆盖方法"
   ]
  },
  {
   "cell_type": "code",
   "execution_count": 17,
   "metadata": {},
   "outputs": [
    {
     "name": "stdout",
     "output_type": "stream",
     "text": [
      "I'm a car!\n",
      "I'm a Yugo! Much like a Car,but more Yugo-ish\n",
      "A little help here?\n"
     ]
    },
    {
     "ename": "AttributeError",
     "evalue": "'Car' object has no attribute 'need_a_push'",
     "output_type": "error",
     "traceback": [
      "\u001b[0;31m---------------------------------------------------------------------------\u001b[0m",
      "\u001b[0;31mAttributeError\u001b[0m                            Traceback (most recent call last)",
      "\u001b[0;32m<ipython-input-17-3cc2cabed3d7>\u001b[0m in \u001b[0;36m<module>\u001b[0;34m()\u001b[0m\n\u001b[1;32m     18\u001b[0m \u001b[0mhew\u001b[0m\u001b[0;34m.\u001b[0m\u001b[0mexclaim\u001b[0m\u001b[0;34m(\u001b[0m\u001b[0;34m)\u001b[0m\u001b[0;34m\u001b[0m\u001b[0m\n\u001b[1;32m     19\u001b[0m \u001b[0mhew\u001b[0m\u001b[0;34m.\u001b[0m\u001b[0mneed_a_push\u001b[0m\u001b[0;34m(\u001b[0m\u001b[0;34m)\u001b[0m\u001b[0;34m\u001b[0m\u001b[0m\n\u001b[0;32m---> 20\u001b[0;31m \u001b[0mhwe\u001b[0m\u001b[0;34m.\u001b[0m\u001b[0mneed_a_push\u001b[0m\u001b[0;34m(\u001b[0m\u001b[0;34m)\u001b[0m\u001b[0;34m\u001b[0m\u001b[0m\n\u001b[0m",
      "\u001b[0;31mAttributeError\u001b[0m: 'Car' object has no attribute 'need_a_push'"
     ]
    }
   ],
   "source": [
    "class Car():      #父类\n",
    "    def exclaim(self):\n",
    "        print(\"I'm a car!\")\n",
    "        \n",
    "class Yugo(Car):  # 子类\n",
    "    def exclaim(self):\n",
    "        # 子类覆盖父类方法\n",
    "        print(\"I'm a Yugo! Much like a Car,but more Yugo-ish\")\n",
    "    \n",
    "    def need_a_push(self):\n",
    "        print('A little help here?')\n",
    "    \n",
    "        \n",
    "hwe = Car()    \n",
    "hew = Yugo()\n",
    "\n",
    "hwe.exclaim()  \n",
    "hew.exclaim()\n",
    "hew.need_a_push()\n",
    "hwe.need_a_push()  #Car 无法响应该方法"
   ]
  },
  {
   "cell_type": "code",
   "execution_count": 14,
   "metadata": {},
   "outputs": [
    {
     "name": "stdout",
     "output_type": "stream",
     "text": [
      "herFudd\n",
      "Doctor Fudd\n",
      "Fudd, Esquire\n"
     ]
    }
   ],
   "source": [
    "class Person():\n",
    "    def __init__(self, name):\n",
    "        self.name = \"her\"+name\n",
    "\n",
    "class MDPerson(Person):\n",
    "    def __init__(self, name):\n",
    "        self.name = \"Doctor \" + name\n",
    "\n",
    "class JDPerson(Person):\n",
    "    def __init__(self, name):\n",
    "        self.name = name + \", Esquire\"\n",
    "        \n",
    "person = Person('Fudd')\n",
    "doctor = MDPerson('Fudd')\n",
    "lawyer = JDPerson('Fudd')\n",
    "print(person.name)\n",
    "print(doctor.name)\n",
    "print(lawyer.name)"
   ]
  },
  {
   "cell_type": "markdown",
   "metadata": {},
   "source": [
    "## 使用 super 从父类得到帮助"
   ]
  },
  {
   "cell_type": "code",
   "execution_count": 19,
   "metadata": {},
   "outputs": [
    {
     "name": "stdout",
     "output_type": "stream",
     "text": [
      "Bob Frapples\n",
      "bob@frapples.com\n"
     ]
    }
   ],
   "source": [
    "# 定义一个子类EmailPerson,用于表示有电子邮箱的Person\n",
    "class Person():\n",
    "    def __init__(self,name):\n",
    "        self.name = name\n",
    "        \n",
    "class EmailPerson(Person):\n",
    "    def __init__(self,name,email):\n",
    "        super().__init__(name)\n",
    "        self.email = email  #通过 super() 方法获取了父类 Person 的定义\n",
    "        \n",
    "bob = EmailPerson('Bob Frapples','bob@frapples.com')\n",
    "print(bob.name)\n",
    "print(bob.email)"
   ]
  },
  {
   "cell_type": "markdown",
   "metadata": {},
   "source": [
    "## 使用属性对特性进行访问和设置"
   ]
  },
  {
   "cell_type": "code",
   "execution_count": 25,
   "metadata": {},
   "outputs": [
    {
     "name": "stdout",
     "output_type": "stream",
     "text": [
      "inside the getter\n"
     ]
    },
    {
     "data": {
      "text/plain": [
       "'Howard'"
      ]
     },
     "execution_count": 25,
     "metadata": {},
     "output_type": "execute_result"
    }
   ],
   "source": [
    "class Duck():\n",
    "    def __init__(self,input_name):\n",
    "        self.hidden_name = input_name\n",
    "    def get_name(self):\n",
    "        print('inside the getter')\n",
    "        return self.hidden_name\n",
    "    def set_name(self,input_name):\n",
    "        print('inside the setter')\n",
    "        self.hidden_name = input_name\n",
    "    name = property(get_name,set_name)\n",
    "\n",
    "fowl = Duck('Howard')\n",
    "fowl.name"
   ]
  },
  {
   "cell_type": "code",
   "execution_count": null,
   "metadata": {},
   "outputs": [],
   "source": []
  }
 ],
 "metadata": {
  "kernelspec": {
   "display_name": "Python 3",
   "language": "python",
   "name": "python3"
  },
  "language_info": {
   "codemirror_mode": {
    "name": "ipython",
    "version": 3
   },
   "file_extension": ".py",
   "mimetype": "text/x-python",
   "name": "python",
   "nbconvert_exporter": "python",
   "pygments_lexer": "ipython3",
   "version": "3.6.5"
  }
 },
 "nbformat": 4,
 "nbformat_minor": 2
}
