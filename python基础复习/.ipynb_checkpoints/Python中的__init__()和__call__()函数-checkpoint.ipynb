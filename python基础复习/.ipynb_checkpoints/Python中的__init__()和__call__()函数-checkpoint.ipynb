{
 "cells": [
  {
   "cell_type": "markdown",
   "metadata": {},
   "source": [
    "- 在Python的class中有一些函数往往具有特殊的意义。\\__init__()和\\__call__()就是class很有用的两类特殊的函数。\n",
    "\n",
    "- **\\__init__()**\n",
    "- 在Python中，\\__init__()函数的意义等同于类的构造器（同理，\\__del__()等同于类的析构函数）。  \n",
    "  因此，\\__init__()方法的作用是创建一个类的实例。\n",
    "\n",
    "- **\\__call__()**\n",
    "- Python中的函数是一级对象。这意味着Python中的函数的引用可以作为输入传递到其他的函数/方法中，并在其中被执行。 \n",
    "- 而Python中类的实例（对象）可以被当做函数对待。也就是说，我们可以将它们作为输入传递到其他的函数/方法中并调用他们，  \n",
    "  正如我们调用一个正常的函数那样。而类中\\__call__()函数的意义正在于此。为了将一个类实例当做函数调用，我们需要在  \n",
    "  类中实现\\__call__()方法。也就是我们要在类中实现如下方法：def \\__call__(self, *args)。这个方法接受一定数  \n",
    "  量的变量作为输入。 \n",
    "- 假设x是X类的一个实例。那么调用x.\\__call__(1,2)等同于调用x(1,2)。这个实例本身在这里相当于一个函数。\n",
    "\n",
    "- **总结**\n",
    "  - 那么，\\__init__()和\\__call__()的区别如下： \n",
    "    - 1. \\__init__()的作用是初始化某个类的一个实例。 \n",
    "    - 2. \\__call__()的作用是使实例能够像函数一样被调用，同时不影响实例本身的生命周期（\\__call__()  \n",
    "      不影响一个实例的构造和析构）。但是\\__call__()可以用来改变实例的内部成员的值。"
   ]
  },
  {
   "cell_type": "code",
   "execution_count": 9,
   "metadata": {},
   "outputs": [
    {
     "name": "stdout",
     "output_type": "stream",
     "text": [
      "__call__ with （1, 2）\n"
     ]
    },
    {
     "name": "stderr",
     "output_type": "stream",
     "text": [
      "Exception ignored in: <bound method X.__del__ of <__main__.X object at 0x7f2a4f72aa58>>\n",
      "TypeError: __del__() missing 3 required positional arguments: 'a', 'b', and 'range'\n"
     ]
    }
   ],
   "source": [
    "class X(object):\n",
    "    def __init__(self, a, b, range):\n",
    "        self.a = a\n",
    "        self.b = b\n",
    "        self.range = range\n",
    "    def __call__(self, a, b):\n",
    "        self.a = a\n",
    "        self.b = b\n",
    "        print('__call__ with （{}, {}）'.format(self.a, self.b))\n",
    "    def __del__(self, a, b, range):\n",
    "        del self.a\n",
    "        del self.b\n",
    "        del self.range\n",
    "xInstance = X(1, 2, 3)\n",
    "xInstance(1,2)"
   ]
  }
 ],
 "metadata": {
  "kernelspec": {
   "display_name": "Python 3",
   "language": "python",
   "name": "python3"
  },
  "language_info": {
   "codemirror_mode": {
    "name": "ipython",
    "version": 3
   },
   "file_extension": ".py",
   "mimetype": "text/x-python",
   "name": "python",
   "nbconvert_exporter": "python",
   "pygments_lexer": "ipython3",
   "version": "3.6.5"
  }
 },
 "nbformat": 4,
 "nbformat_minor": 2
}
