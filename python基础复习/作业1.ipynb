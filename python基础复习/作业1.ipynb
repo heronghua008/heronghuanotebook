{
 "cells": [
  {
   "cell_type": "code",
   "execution_count": 12,
   "metadata": {},
   "outputs": [
    {
     "name": "stdout",
     "output_type": "stream",
     "text": [
      "['alex_sb', 'wupeiqi_sb', 'yuanhao_sb', 'nezha_sb']\n"
     ]
    }
   ],
   "source": [
    "# 3.用map来处理字符串列表,把列表中所有人都变成sb,比方alex_sb\n",
    "name=['alex','wupeiqi','yuanhao','nezha']\n",
    "# def func(itm):\n",
    "#     return itm+'_sb'\n",
    "# ret = map(func,name)\n",
    "# print(list(ret))\n",
    "\n",
    "ret = map(lambda itm:itm+'_sb',name)\n",
    "print(list(ret))"
   ]
  },
  {
   "cell_type": "code",
   "execution_count": 2,
   "metadata": {},
   "outputs": [
    {
     "name": "stdout",
     "output_type": "stream",
     "text": [
      "0\n",
      "2\n",
      "4\n",
      "6\n",
      "8\n"
     ]
    }
   ],
   "source": [
    "#  4.用filter函数处理数字列表，将列表中所有的偶数筛选出来\n",
    "# def isodd(x): # 此函数判断x是否为偶数\n",
    "#     return x%2==0\n",
    "# for x in filter(isodd,L):\n",
    "#     print(x) # 41 43 45 47 49 51 \n",
    "\n",
    "for x in filter(lambda x:x%2==0,L):\n",
    "    print(x)\n"
   ]
  },
  {
   "cell_type": "code",
   "execution_count": 6,
   "metadata": {},
   "outputs": [
    {
     "name": "stdout",
     "output_type": "stream",
     "text": [
      "请输入页码 ： 1\n",
      "{'name': 'IBM', 'shares': 100, 'price': 91.1}\n",
      "{'name': 'AAPL', 'shares': 50, 'price': 543.22}\n",
      "{'name': 'FB', 'shares': 200, 'price': 21.09}\n",
      "{'name': 'HPQ', 'shares': 35, 'price': 31.75}\n",
      "{'name': 'YHOO', 'shares': 45, 'price': 16.35}\n"
     ]
    }
   ],
   "source": [
    "#  5.随意写一个20行以上的文件\n",
    "# 运行程序，先将内容读到内存中，用列表存储。\n",
    "# 接收用户输入页码，每页5条，仅输出当页的内容\n",
    "with open('test.txt',encoding='utf-8') as f:\n",
    "    l = f.readlines()\n",
    "page_num = int(input('请输入页码 ： '))\n",
    "pages,mod = divmod(len(l),5) #求有多少页，有没有剩余的行数\n",
    "if mod:           # 如果有剩余的行数，那么页数加一\n",
    "    pages += 1    # 一共有多少页\n",
    "if page_num > pages or page_num <= 0:   #用户输入的页数大于总数或者小于等于0\n",
    "    print('输入有误')\n",
    "elif page_num == pages and mod !=0:    #如果用户输入的页码是最后一页，且之前有过剩余行数\n",
    "    for i in range(mod):\n",
    "        print(l[(page_num-1)*5 +i].strip())  #只输出这一页上剩余的行\n",
    "else:\n",
    "    for i in range(5):\n",
    "        print(l[(page_num-1)*5 +i].strip())  #输出5行\n",
    "\n",
    "        "
   ]
  },
  {
   "cell_type": "code",
   "execution_count": null,
   "metadata": {},
   "outputs": [],
   "source": [
    "#  6.如下，每个小字典的name对应股票名字，shares对应多少股，price对应股票的价格\n",
    "# portfolio = [\n",
    "#     {'name': 'IBM', 'shares': 100, 'price': 91.1},\n",
    "#     {'name': 'AAPL', 'shares': 50, 'price': 543.22},\n",
    "#     {'name': 'FB', 'shares': 200, 'price': 21.09},\n",
    "#     {'name': 'HPQ', 'shares': 35, 'price': 31.75},\n",
    "#     {'name': 'YHOO', 'shares': 45, 'price': 16.35},\n",
    "#     {'name': 'ACME', 'shares': 75, 'price': 115.65}"
   ]
  },
  {
   "cell_type": "code",
   "execution_count": null,
   "metadata": {},
   "outputs": [],
   "source": [
    "#  6.1.计算购买每支股票的总价"
   ]
  },
  {
   "cell_type": "code",
   "execution_count": null,
   "metadata": {},
   "outputs": [],
   "source": [
    "# 6.2.用filter过滤出，单价大于100的股票有哪些"
   ]
  },
  {
   "cell_type": "code",
   "execution_count": null,
   "metadata": {},
   "outputs": [],
   "source": [
    "# 每周大作业\n",
    "# 这一周写得所有博客地址，精确到页的url，至少三篇，内容不限\n",
    "# 大作业 ： py readme（对作业描述，顺便可以写点儿你想和导员沟通的） 流程图"
   ]
  }
 ],
 "metadata": {
  "kernelspec": {
   "display_name": "Python 3",
   "language": "python",
   "name": "python3"
  },
  "language_info": {
   "codemirror_mode": {
    "name": "ipython",
    "version": 3
   },
   "file_extension": ".py",
   "mimetype": "text/x-python",
   "name": "python",
   "nbconvert_exporter": "python",
   "pygments_lexer": "ipython3",
   "version": "3.6.5"
  }
 },
 "nbformat": 4,
 "nbformat_minor": 2
}
