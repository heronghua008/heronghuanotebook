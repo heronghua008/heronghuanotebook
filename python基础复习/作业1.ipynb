{
 "cells": [
  {
   "cell_type": "code",
   "execution_count": 12,
   "metadata": {},
   "outputs": [
    {
     "name": "stdout",
     "output_type": "stream",
     "text": [
      "['alex_sb', 'wupeiqi_sb', 'yuanhao_sb', 'nezha_sb']\n"
     ]
    }
   ],
   "source": [
    "# 3.用map来处理字符串列表,把列表中所有人都变成sb,比方alex_sb\n",
    "name=['alex','wupeiqi','yuanhao','nezha']\n",
    "# def func(itm):\n",
    "#     return itm+'_sb'\n",
    "# ret = map(func,name)\n",
    "# print(list(ret))\n",
    "\n",
    "ret = map(lambda itm:itm+'_sb',name)\n",
    "print(list(ret))"
   ]
  },
  {
   "cell_type": "code",
   "execution_count": 2,
   "metadata": {},
   "outputs": [
    {
     "name": "stdout",
     "output_type": "stream",
     "text": [
      "0\n",
      "2\n",
      "4\n",
      "6\n",
      "8\n"
     ]
    }
   ],
   "source": [
    "#  4.用filter函数处理数字列表，将列表中所有的偶数筛选出来\n",
    "# def isodd(x): # 此函数判断x是否为偶数\n",
    "#     return x%2==0\n",
    "# for x in filter(isodd,L):\n",
    "#     print(x) # 41 43 45 47 49 51 \n",
    "\n",
    "for x in filter(lambda x:x%2==0,L):\n",
    "    print(x)\n"
   ]
  },
  {
   "cell_type": "code",
   "execution_count": 6,
   "metadata": {},
   "outputs": [
    {
     "name": "stdout",
     "output_type": "stream",
     "text": [
      "请输入页码 ： 1\n",
      "{'name': 'IBM', 'shares': 100, 'price': 91.1}\n",
      "{'name': 'AAPL', 'shares': 50, 'price': 543.22}\n",
      "{'name': 'FB', 'shares': 200, 'price': 21.09}\n",
      "{'name': 'HPQ', 'shares': 35, 'price': 31.75}\n",
      "{'name': 'YHOO', 'shares': 45, 'price': 16.35}\n"
     ]
    }
   ],
   "source": [
    "#  5.随意写一个20行以上的文件\n",
    "# 运行程序，先将内容读到内存中，用列表存储。\n",
    "# 接收用户输入页码，每页5条，仅输出当页的内容\n",
    "with open('test.txt',encoding='utf-8') as f:\n",
    "    l = f.readlines()\n",
    "page_num = int(input('请输入页码 ： '))\n",
    "pages,mod = divmod(len(l),5) #求有多少页，有没有剩余的行数\n",
    "if mod:           # 如果有剩余的行数，那么页数加一\n",
    "    pages += 1    # 一共有多少页\n",
    "if page_num > pages or page_num <= 0:   #用户输入的页数大于总数或者小于等于0\n",
    "    print('输入有误')\n",
    "elif page_num == pages and mod !=0:    #如果用户输入的页码是最后一页，且之前有过剩余行数\n",
    "    for i in range(mod):\n",
    "        print(l[(page_num-1)*5 +i].strip())  #只输出这一页上剩余的行\n",
    "else:\n",
    "    for i in range(5):\n",
    "        print(l[(page_num-1)*5 +i].strip())  #输出5行\n",
    "\n",
    "        "
   ]
  },
  {
   "cell_type": "code",
   "execution_count": null,
   "metadata": {},
   "outputs": [],
   "source": [
    "#  6.如下，每个小字典的name对应股票名字，shares对应多少股，price对应股票的价格\n",
    "# portfolio = [\n",
    "#     {'name': 'IBM', 'shares': 100, 'price': 91.1},\n",
    "#     {'name': 'AAPL', 'shares': 50, 'price': 543.22},\n",
    "#     {'name': 'FB', 'shares': 200, 'price': 21.09},\n",
    "#     {'name': 'HPQ', 'shares': 35, 'price': 31.75},\n",
    "#     {'name': 'YHOO', 'shares': 45, 'price': 16.35},\n",
    "#     {'name': 'ACME', 'shares': 75, 'price': 115.65}"
   ]
  },
  {
   "cell_type": "code",
   "execution_count": null,
   "metadata": {},
   "outputs": [],
   "source": [
    "#  6.1.计算购买每支股票的总价"
   ]
  },
  {
   "cell_type": "code",
   "execution_count": null,
   "metadata": {},
   "outputs": [],
   "source": [
    "# 6.2.用filter过滤出，单价大于100的股票有哪些"
   ]
  },
  {
   "cell_type": "code",
   "execution_count": null,
   "metadata": {},
   "outputs": [],
   "source": [
    "# 每周大作业\n",
    "# 这一周写得所有博客地址，精确到页的url，至少三篇，内容不限\n",
    "# 大作业 ： py readme（对作业描述，顺便可以写点儿你想和导员沟通的） 流程图"
   ]
  },
  {
   "cell_type": "code",
   "execution_count": 11,
   "metadata": {},
   "outputs": [
    {
     "name": "stdout",
     "output_type": "stream",
     "text": [
      "打狗棒\n",
      "100.5\n",
      "399.5\n",
      "199.5\n"
     ]
    }
   ],
   "source": [
    "class Dog:\n",
    "    def __init__(self,name,aggr,hp,kind):\n",
    "        self.name = name\n",
    "        self.aggr = aggr\n",
    "        self.hp = hp\n",
    "        self.kind = kind\n",
    "        \n",
    "    def bite(self,person):\n",
    "        person.hp -= self.aggr\n",
    "        \n",
    "        \n",
    "        \n",
    "        \n",
    "        \n",
    "class Person:\n",
    "    def __init__(self,name,aggr,hp,sex):\n",
    "        self.name = name\n",
    "        self.aggr = aggr\n",
    "        self.sex = sex\n",
    "        self.hp = hp\n",
    "        self.money = 0\n",
    "        \n",
    "    def attack(self,dog):\n",
    "        dog.hp -= self.aggr\n",
    "        \n",
    "        \n",
    "    def get_weapon(self,weapon):\n",
    "        if self.money >= weapon.price:\n",
    "            self.money -= weapon.price\n",
    "            self.weapon = weapon\n",
    "            self.aggr += weapon.aggr\n",
    "        else:\n",
    "            print('余额不足，请先充值')\n",
    "            \n",
    "            \n",
    "class Weapon:\n",
    "    def __init__(self,name,aggr,njd,price):\n",
    "        self.name = name\n",
    "        self.aggr = aggr\n",
    "        self.njd = njd\n",
    "        self.price = price\n",
    "        \n",
    "        \n",
    "    def han18(self,person):\n",
    "        if self.njd > 0:\n",
    "            person.hp -= self.aggr*2\n",
    "            self.njd -= 1\n",
    "            \n",
    "            \n",
    "alex = Person('alex',0.5,100,'不详')\n",
    "jin = Dog('金老板',100,500,'teddy')\n",
    "w = Weapon('打狗棒',100,3,998)\n",
    "\n",
    "alex.money += 1000\n",
    "\n",
    "alex.get_weapon(w)\n",
    "print(alex.weapon.name)\n",
    "print(alex.aggr)\n",
    "alex.attack(jin)\n",
    "print(jin.hp)\n",
    "alex.weapon.han18(jin)\n",
    "print(jin.hp)\n",
    "\n",
    "\n",
    "\n",
    "\n",
    "\n"
   ]
  },
  {
   "cell_type": "code",
   "execution_count": null,
   "metadata": {},
   "outputs": [],
   "source": []
  }
 ],
 "metadata": {
  "kernelspec": {
   "display_name": "Python 3",
   "language": "python",
   "name": "python3"
  },
  "language_info": {
   "codemirror_mode": {
    "name": "ipython",
    "version": 3
   },
   "file_extension": ".py",
   "mimetype": "text/x-python",
   "name": "python",
   "nbconvert_exporter": "python",
   "pygments_lexer": "ipython3",
   "version": "3.6.5"
  }
 },
 "nbformat": 4,
 "nbformat_minor": 2
}
