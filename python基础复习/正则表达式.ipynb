{
 "cells": [
  {
   "cell_type": "markdown",
   "metadata": {},
   "source": [
    "## 正则表达式----字符串匹配\n",
    "- 正则表达式是对字符串操作的一种逻辑公式，就是用事先定义好的一些特定字符、及这些特定字符的组合，组成一个“规则字符串”，这个“规则字符串”用来表达对字符串的一种过滤逻辑\n",
    "- **字符组: \\[字符组]**\n",
    "  - 在同一个位置可能出现的各种字符组成了一个字符组，在正则表达式中用[]表示\n",
    "  - 字符分为很多类，比如数字、字母、标点等等。\n",
    "  - 假如你现在要求一个位置\"只能出现一个数字\",那么这个位置上的字符只能是0、1、2...9这10个数之一。"
   ]
  },
  {
   "cell_type": "code",
   "execution_count": 3,
   "metadata": {},
   "outputs": [
    {
     "name": "stdout",
     "output_type": "stream",
     "text": [
      "please input your phone number ： 1867700700l\n",
      "不是合法的手机号码\n"
     ]
    }
   ],
   "source": [
    "# 判断手机号码是否合法1\n",
    "# while True:\n",
    "#     phone_number = input('please input your phone number ： ')\n",
    "#     if len(phone_number) == 11 \\\n",
    "#             and phone_number.isdigit()\\\n",
    "#             and (phone_number.startswith('13') \\\n",
    "#             or phone_number.startswith('14') \\\n",
    "#             or phone_number.startswith('15') \\\n",
    "#             or phone_number.startswith('18')):\n",
    "#         print('是合法的手机号码')\n",
    "#     else:\n",
    "#         print('不是合法的手机号码')\n",
    "\n",
    "\n",
    "import re\n",
    "phone_number = input('please input your phone number ： ')\n",
    "if re.match('^(13|14|15|18)[0-9]{9}$',phone_number):\n",
    "        print('是合法的手机号码')\n",
    "else:\n",
    "        print('不是合法的手机号码')"
   ]
  }
 ],
 "metadata": {
  "kernelspec": {
   "display_name": "Python 3",
   "language": "python",
   "name": "python3"
  },
  "language_info": {
   "codemirror_mode": {
    "name": "ipython",
    "version": 3
   },
   "file_extension": ".py",
   "mimetype": "text/x-python",
   "name": "python",
   "nbconvert_exporter": "python",
   "pygments_lexer": "ipython3",
   "version": "3.6.5"
  }
 },
 "nbformat": 4,
 "nbformat_minor": 2
}
