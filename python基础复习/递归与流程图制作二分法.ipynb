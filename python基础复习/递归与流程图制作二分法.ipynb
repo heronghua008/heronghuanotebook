{
 "cells": [
  {
   "cell_type": "markdown",
   "metadata": {},
   "source": [
    "## 简单制作流程图规范\n",
    "![奇趣](2018-07-21 14-51-59 的屏幕截图.png)\n",
    "\n",
    "## 递归函数\n",
    "- 了解什么是递归\n",
    "  - 在函数自身中调用自己就是递归\n",
    "- 能看懂递归\n",
    "- 能知道递归的应用场景\n",
    "  -返回值\n",
    "    - 不要只看到return就认为已经返回了。要看返回操作是在递归到第几层的时候发生的，然后返回给了谁。\n",
    "    - 如果不是返回给最外层函数，调用者就接收不到。\n",
    "    - 需要再分析，看如何把结果返回回来。\n",
    "- 初识递归\n",
    "- 算法---->二分查找算法\n",
    "- 三级菜单    递归实现\n"
   ]
  },
  {
   "cell_type": "code",
   "execution_count": 5,
   "metadata": {},
   "outputs": [
    {
     "name": "stdout",
     "output_type": "stream",
     "text": [
      "7\n"
     ]
    }
   ],
   "source": [
    "# 二分查找算法 必须处理有序的列表\n",
    "# l = [2,3,5,10,15,16,18,22,26,30,32,35,41,42,43,55,56,66,67,69,72,76,82,83,88]\n",
    "# 5000000  4999998\n",
    "# 代码实现\n",
    "# def find(l,aim):\n",
    "#     mid_index = len(l) // 2\n",
    "#     if l[mid_index] < aim:\n",
    "#         new_l = l[mid_index+1 :]\n",
    "#         find(new_l,aim)\n",
    "#     elif l[mid_index] > aim:\n",
    "#         new_l = l[:mid_index]\n",
    "#         find(new_l, aim)\n",
    "#     else:\n",
    "#         print('找到了',mid_index,l[mid_index])\n",
    "#\n",
    "# find(l,66)\n",
    "\n",
    "# l = [2,3,5,10,15,16,18,22,26,30,32,35,41,42,43,55,56,66,67,69,72,76,82,83,88]\n",
    "# def find(l,aim,start = 0,end = None):\n",
    "#     end = len(l) if end is None else end   # end = len(l)   24\n",
    "#     mid_index = (end - start)//2 + start   #计算中间值  12 + 0 = 12\n",
    "#     if l[mid_index] < aim:       #l[12] < 44   #41 < 44\n",
    "#         find(l,aim,start =mid_index+1,end=end)  # find(l,44,start=13,end=24)\n",
    "#     elif l[mid_index] > aim:\n",
    "#         find(l, aim, start=start, end=mid_index-1)\n",
    "#     else:\n",
    "#         print('找到了',mid_index,aim)\n",
    "\n",
    "# def find(l,aim,start = 0,end = None):    # l,44,start=13,end=24\n",
    "#     end = len(l) if end is None else end   # end = 24\n",
    "#     mid_index = (end - start)//2 + start   #计算中间值  24-13/2 = 5 + 13 = 18\n",
    "#     if l[mid_index] < aim:       #l[18] < 44   #67 < 44\n",
    "#         find(l,aim,start =mid_index+1,end=end)\n",
    "#     elif l[mid_index] > aim:     # 67 > 44\n",
    "#         find(l, aim, start=start, end=mid_index-1)  # find(l,44,start=13,end=17)\n",
    "#     else:\n",
    "#         print('找到了',mid_index,aim)\n",
    "\n",
    "# def find(l,aim,start = 0,end = None):    # l,44,start=13,end=17\n",
    "#     end = len(l) if end is None else end   # end = 17\n",
    "#     mid_index = (end - start)//2 + start   #计算中间值  17-13/2 = 2 + 13 = 15\n",
    "#     if l[mid_index] < aim:       #l[15] < 44   #55 < 44\n",
    "#         find(l,aim,start =mid_index+1,end=end)\n",
    "#     elif l[mid_index] > aim:     # 55 > 44\n",
    "#         find(l, aim, start=start, end=mid_index-1)  # find(l,44,start=13,end=14)\n",
    "#     else:\n",
    "#         print('找到了',mid_index,aim)\n",
    "\n",
    "# def find(l,aim,start = 0,end = None):    # l,44,start=13,end=14\n",
    "#     end = len(l) if end is None else end   # end = 14\n",
    "#     mid_index = (end - start)//2 + start   #计算中间值  14-13/2 = 0+ 13 = 13\n",
    "#     if l[mid_index] < aim:       #l[13] < 44   #42 < 44\n",
    "#         find(l,aim,start =mid_index+1,end=end)  # find(l,44,start=14,end=14)\n",
    "#     elif l[mid_index] > aim:     # 42 > 44\n",
    "#         find(l, aim, start=start, end=mid_index-1)\n",
    "#     else:\n",
    "#         print('找到了',mid_index,aim)"
   ]
  },
  {
   "cell_type": "code",
   "execution_count": 50,
   "metadata": {},
   "outputs": [
    {
     "name": "stdout",
     "output_type": "stream",
     "text": [
      "18\n",
      "17\n"
     ]
    },
    {
     "data": {
      "text/plain": [
       "12"
      ]
     },
     "execution_count": 50,
     "metadata": {},
     "output_type": "execute_result"
    }
   ],
   "source": [
    "l = [2,3,5,10,15,16,18,22,26,30,32,35,41,42,43,55,56,66,67,69,72,76,82,83,88]   \n",
    "def find(l,aim,start=0,end=None):\n",
    "    end = len(l) if end==None else  end\n",
    "    if start <= end:\n",
    "        mid_index = (end-start) // 2 + start\n",
    "        if l[mid_index] < aim:\n",
    "            return find(l,aim,start=mid_index+1,end=end)\n",
    "\n",
    "        elif l[mid_index] > aim:\n",
    "            return find(l,aim,start=start,end=mid_index-1)\n",
    "        else:\n",
    "            return mid_index\n",
    "    else:\n",
    "        return '没有这个值'\n",
    "\n",
    "\n",
    "ret = find(l,67)\n",
    "print(ret)\n",
    "\n",
    "print(l.index(66))\n"
   ]
  },
  {
   "cell_type": "code",
   "execution_count": 64,
   "metadata": {},
   "outputs": [
    {
     "data": {
      "text/plain": [
       "24"
      ]
     },
     "execution_count": 64,
     "metadata": {},
     "output_type": "execute_result"
    }
   ],
   "source": [
    "# 阶乘\n",
    "def fac(n):\n",
    "    if n==1:\n",
    "        return 1\n",
    "    else:\n",
    "        return fac(n-1)*n\n",
    "    \n",
    "ret=fac(4)\n",
    "print(ret)"
   ]
  },
  {
   "cell_type": "code",
   "execution_count": 67,
   "metadata": {},
   "outputs": [
    {
     "name": "stdout",
     "output_type": "stream",
     "text": [
      "3\n"
     ]
    }
   ],
   "source": [
    "# 斐波娜契 问第n个斐波那契数是多少\n",
    "# def fib(n):\n",
    "#     if n==1 or n==2:\n",
    "#         return 1\n",
    "#     return fib(n-1)+fib(n-2)\n",
    "\n",
    "# print(fib(4))\n",
    "\n",
    "# def fib(n,l = [0]):\n",
    "#     l[0] +=1\n",
    "#     if n ==1 or n == 2:\n",
    "#         l[0] -= 1\n",
    "#         return 1,1\n",
    "#     else:\n",
    "#         a,b = (n-1)\n",
    "#         l[0] -= 1\n",
    "#         if l[0] == 0:\n",
    "#             return a+b\n",
    "#         return b,a+b\n",
    "# print(fib(50))\n",
    "def fib(n,a=1,b=1):\n",
    "    if n==1 : return a\n",
    "    return fib(n-1,b,a+b)\n",
    "\n",
    "print(fib(4))"
   ]
  },
  {
   "cell_type": "code",
   "execution_count": null,
   "metadata": {},
   "outputs": [],
   "source": []
  }
 ],
 "metadata": {
  "kernelspec": {
   "display_name": "Python 3",
   "language": "python",
   "name": "python3"
  },
  "language_info": {
   "codemirror_mode": {
    "name": "ipython",
    "version": 3
   },
   "file_extension": ".py",
   "mimetype": "text/x-python",
   "name": "python",
   "nbconvert_exporter": "python",
   "pygments_lexer": "ipython3",
   "version": "3.6.5"
  }
 },
 "nbformat": 4,
 "nbformat_minor": 2
}
