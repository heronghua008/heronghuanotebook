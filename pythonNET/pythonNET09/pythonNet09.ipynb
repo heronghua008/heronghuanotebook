{
 "cells": [
  {
   "cell_type": "markdown",
   "metadata": {},
   "source": [
    "## threading 的多线程并发\n",
    "- 对比多进程并发： \n",
    "  - 优点 ： 资源消耗少\n",
    "  - 缺点 ： 需要注意共享该资源的争夺  (注意GIL问题)\n"
   ]
  },
  {
   "cell_type": "code",
   "execution_count": null,
   "metadata": {},
   "outputs": [],
   "source": [
    "# thread_server\n",
    "from socket import *\n",
    "from threading import *\n",
    "HOST = '0.0.0.0'\n",
    "POST = 8888\n",
    "ADDR = (HOST,POST)\n",
    "\n",
    "s = socket()\n",
    "s.bind(ADDR)\n",
    "s.listen(5)\n",
    "\n",
    "while True:\n",
    "    try:\n",
    "        connfd,adr = s.accept()\n",
    "    except KeyboardInterrupt:\n",
    "        s.close()\n",
    "        sys.exit('服务器退出')\n",
    "    except Exception as e:\n",
    "        print(e)\n",
    "        continue\n",
    "        \n",
    "    t = Thread\n",
    "        "
   ]
  }
 ],
 "metadata": {
  "kernelspec": {
   "display_name": "Python 3",
   "language": "python",
   "name": "python3"
  },
  "language_info": {
   "codemirror_mode": {
    "name": "ipython",
    "version": 3
   },
   "file_extension": ".py",
   "mimetype": "text/x-python",
   "name": "python",
   "nbconvert_exporter": "python",
   "pygments_lexer": "ipython3",
   "version": "3.6.5"
  }
 },
 "nbformat": 4,
 "nbformat_minor": 2
}
