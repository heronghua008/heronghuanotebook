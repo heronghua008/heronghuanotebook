{
 "cells": [
  {
   "cell_type": "markdown",
   "metadata": {},
   "source": [
    "## 第三版http\n",
    "- 获取http请求\n",
    "- 解析HTTP请求\n",
    "- 根据解析结果分析请求内容 \n",
    "  - 静态网页则返回对应网页\n",
    "  - 请求数据，则比对ur1，进行返回\n",
    " \n",
    "- 升级： http server +框架结构 的模型实现功能离进一步降低耦合性方便功能扩展\n",
    "\n",
    "## 前端  前台  客户端  用户端\n",
    "- **功能** ：\n",
    "  - 和用户交互，获取用户请求\n",
    "  - 和后端进行通信，整理用户请求给后端\n",
    "  - 接受后端内容，展现给用户\n",
    " \n",
    "- **要求**：\n",
    "  - 良好的用户体验                                                                                            \n",
    "  - \n",
    "  \n",
    "  \n",
    "- **httpserver**\n",
    "  - static          存放静态网页\n",
    "  - wsgiPy\n",
    "  - HttpServer.py\n",
    "  - WebFrame.py    模拟\n",
    "  - setting.py     作为模块的配置文件"
   ]
  },
  {
   "cell_type": "code",
   "execution_count": null,
   "metadata": {},
   "outputs": [],
   "source": [
    "\n",
    "\n",
    "\n",
    "\n",
    "\n",
    "\n",
    "\n",
    "\n",
    "\n",
    "\n",
    "\n",
    "\n",
    "\n",
    "\n",
    "\n",
    "\n",
    "\n",
    "\n",
    "\n",
    "\n",
    "\n",
    "\n",
    "\n",
    "\n",
    "\n",
    "\n"
   ]
  }
 ],
 "metadata": {
  "kernelspec": {
   "display_name": "Python 3",
   "language": "python",
   "name": "python3"
  },
  "language_info": {
   "codemirror_mode": {
    "name": "ipython",
    "version": 3
   },
   "file_extension": ".py",
   "mimetype": "text/x-python",
   "name": "python",
   "nbconvert_exporter": "python",
   "pygments_lexer": "ipython3",
   "version": "3.6.5"
  }
 },
 "nbformat": 4,
 "nbformat_minor": 2
}
