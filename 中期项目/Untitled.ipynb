{
 "cells": [
  {
   "cell_type": "markdown",
   "metadata": {},
   "source": [
    "<h1 align=\"center\">小维捷</h1>\n",
    "\n",
    "<form action=\"xx.py\" method=\"post\" align=\"center\">\n",
    "        <!--表单控件\n",
    "        1.文本框与密码框\n",
    "        -->\n",
    "        <p>\n",
    "        账号:<input type=\"text\" name=\"username\" value=\"heronghua\"/>\n",
    "            </p>\n",
    "        <p align=\"center\">\n",
    "        密码:<input type=\"password\" name=\"userpassword\" placeholder=\"密码由6-12位数字字母组合而成\"/>\n",
    "            </p>\n",
    "        <p align=\"center\">\n",
    "            用户性别:\n",
    "        <input type=\"radio\" name=\"gender\" checked>\n",
    "            帅哥:\n",
    "        <input type=\"radio\" name=\"gender\" value=\"female\">\n",
    "            美女:\n",
    "        </p>\n",
    "        <p align=\"center\">\n",
    "            爱好:\n",
    "            <input type=\"checkbox\" name=\"hobyy\">\n",
    "            gay:\n",
    "            <input type=\"checkbox\" name=\"hobyy\">\n",
    "            玩鸡鸡:\n",
    "            <input type=\"checkbox\" name=\"hobyy\">\n",
    "            吹牛逼:\n",
    "</p>\n",
    "   </form>"
   ]
  }
 ],
 "metadata": {
  "kernelspec": {
   "display_name": "Python 3",
   "language": "python",
   "name": "python3"
  },
  "language_info": {
   "codemirror_mode": {
    "name": "ipython",
    "version": 3
   },
   "file_extension": ".py",
   "mimetype": "text/x-python",
   "name": "python",
   "nbconvert_exporter": "python",
   "pygments_lexer": "ipython3",
   "version": "3.6.5"
  }
 },
 "nbformat": 4,
 "nbformat_minor": 2
}
